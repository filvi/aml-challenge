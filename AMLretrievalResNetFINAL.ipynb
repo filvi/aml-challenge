{
  "nbformat": 4,
  "nbformat_minor": 0,
  "metadata": {
    "colab": {
      "name": "AMLretrievalResNet.ipynb",
      "provenance": [],
      "collapsed_sections": [
        "pc50MtMFOyl3",
        "795qoWT0jn36"
      ]
    },
    "kernelspec": {
      "name": "python3",
      "display_name": "Python 3"
    },
    "language_info": {
      "name": "python"
    },
    "accelerator": "GPU",
    "widgets": {
      "application/vnd.jupyter.widget-state+json": {
        "09495b4d8ce94e2880954e93fa93797c": {
          "model_module": "@jupyter-widgets/controls",
          "model_name": "HBoxModel",
          "state": {
            "_view_name": "HBoxView",
            "_dom_classes": [],
            "_model_name": "HBoxModel",
            "_view_module": "@jupyter-widgets/controls",
            "_model_module_version": "1.5.0",
            "_view_count": null,
            "_view_module_version": "1.5.0",
            "box_style": "",
            "layout": "IPY_MODEL_018cfbb1ac0f4ff6ac2b3175890d2db1",
            "_model_module": "@jupyter-widgets/controls",
            "children": [
              "IPY_MODEL_b4f8e3a8a25142b39ee2ac57194382ed",
              "IPY_MODEL_ccc6f355fd0046cba99fed053ef8d127"
            ]
          }
        },
        "018cfbb1ac0f4ff6ac2b3175890d2db1": {
          "model_module": "@jupyter-widgets/base",
          "model_name": "LayoutModel",
          "state": {
            "_view_name": "LayoutView",
            "grid_template_rows": null,
            "right": null,
            "justify_content": null,
            "_view_module": "@jupyter-widgets/base",
            "overflow": null,
            "_model_module_version": "1.2.0",
            "_view_count": null,
            "flex_flow": null,
            "width": null,
            "min_width": null,
            "border": null,
            "align_items": null,
            "bottom": null,
            "_model_module": "@jupyter-widgets/base",
            "top": null,
            "grid_column": null,
            "overflow_y": null,
            "overflow_x": null,
            "grid_auto_flow": null,
            "grid_area": null,
            "grid_template_columns": null,
            "flex": null,
            "_model_name": "LayoutModel",
            "justify_items": null,
            "grid_row": null,
            "max_height": null,
            "align_content": null,
            "visibility": null,
            "align_self": null,
            "height": null,
            "min_height": null,
            "padding": null,
            "grid_auto_rows": null,
            "grid_gap": null,
            "max_width": null,
            "order": null,
            "_view_module_version": "1.2.0",
            "grid_template_areas": null,
            "object_position": null,
            "object_fit": null,
            "grid_auto_columns": null,
            "margin": null,
            "display": null,
            "left": null
          }
        },
        "b4f8e3a8a25142b39ee2ac57194382ed": {
          "model_module": "@jupyter-widgets/controls",
          "model_name": "FloatProgressModel",
          "state": {
            "_view_name": "ProgressView",
            "style": "IPY_MODEL_d68e9f2c1d954a23934612781c0a3c87",
            "_dom_classes": [],
            "description": "100%",
            "_model_name": "FloatProgressModel",
            "bar_style": "success",
            "max": 17,
            "_view_module": "@jupyter-widgets/controls",
            "_model_module_version": "1.5.0",
            "value": 17,
            "_view_count": null,
            "_view_module_version": "1.5.0",
            "orientation": "horizontal",
            "min": 0,
            "description_tooltip": null,
            "_model_module": "@jupyter-widgets/controls",
            "layout": "IPY_MODEL_aae480f125f049489f42a54faa7648c6"
          }
        },
        "ccc6f355fd0046cba99fed053ef8d127": {
          "model_module": "@jupyter-widgets/controls",
          "model_name": "HTMLModel",
          "state": {
            "_view_name": "HTMLView",
            "style": "IPY_MODEL_1bba5fe98f8547ee9aefb10860750889",
            "_dom_classes": [],
            "description": "",
            "_model_name": "HTMLModel",
            "placeholder": "​",
            "_view_module": "@jupyter-widgets/controls",
            "_model_module_version": "1.5.0",
            "value": " 17/17 [11:20&lt;00:00, 40.01s/it]",
            "_view_count": null,
            "_view_module_version": "1.5.0",
            "description_tooltip": null,
            "_model_module": "@jupyter-widgets/controls",
            "layout": "IPY_MODEL_63838d2471144436907c8e40ab0c4f21"
          }
        },
        "d68e9f2c1d954a23934612781c0a3c87": {
          "model_module": "@jupyter-widgets/controls",
          "model_name": "ProgressStyleModel",
          "state": {
            "_view_name": "StyleView",
            "_model_name": "ProgressStyleModel",
            "description_width": "initial",
            "_view_module": "@jupyter-widgets/base",
            "_model_module_version": "1.5.0",
            "_view_count": null,
            "_view_module_version": "1.2.0",
            "bar_color": null,
            "_model_module": "@jupyter-widgets/controls"
          }
        },
        "aae480f125f049489f42a54faa7648c6": {
          "model_module": "@jupyter-widgets/base",
          "model_name": "LayoutModel",
          "state": {
            "_view_name": "LayoutView",
            "grid_template_rows": null,
            "right": null,
            "justify_content": null,
            "_view_module": "@jupyter-widgets/base",
            "overflow": null,
            "_model_module_version": "1.2.0",
            "_view_count": null,
            "flex_flow": null,
            "width": null,
            "min_width": null,
            "border": null,
            "align_items": null,
            "bottom": null,
            "_model_module": "@jupyter-widgets/base",
            "top": null,
            "grid_column": null,
            "overflow_y": null,
            "overflow_x": null,
            "grid_auto_flow": null,
            "grid_area": null,
            "grid_template_columns": null,
            "flex": null,
            "_model_name": "LayoutModel",
            "justify_items": null,
            "grid_row": null,
            "max_height": null,
            "align_content": null,
            "visibility": null,
            "align_self": null,
            "height": null,
            "min_height": null,
            "padding": null,
            "grid_auto_rows": null,
            "grid_gap": null,
            "max_width": null,
            "order": null,
            "_view_module_version": "1.2.0",
            "grid_template_areas": null,
            "object_position": null,
            "object_fit": null,
            "grid_auto_columns": null,
            "margin": null,
            "display": null,
            "left": null
          }
        },
        "1bba5fe98f8547ee9aefb10860750889": {
          "model_module": "@jupyter-widgets/controls",
          "model_name": "DescriptionStyleModel",
          "state": {
            "_view_name": "StyleView",
            "_model_name": "DescriptionStyleModel",
            "description_width": "",
            "_view_module": "@jupyter-widgets/base",
            "_model_module_version": "1.5.0",
            "_view_count": null,
            "_view_module_version": "1.2.0",
            "_model_module": "@jupyter-widgets/controls"
          }
        },
        "63838d2471144436907c8e40ab0c4f21": {
          "model_module": "@jupyter-widgets/base",
          "model_name": "LayoutModel",
          "state": {
            "_view_name": "LayoutView",
            "grid_template_rows": null,
            "right": null,
            "justify_content": null,
            "_view_module": "@jupyter-widgets/base",
            "overflow": null,
            "_model_module_version": "1.2.0",
            "_view_count": null,
            "flex_flow": null,
            "width": null,
            "min_width": null,
            "border": null,
            "align_items": null,
            "bottom": null,
            "_model_module": "@jupyter-widgets/base",
            "top": null,
            "grid_column": null,
            "overflow_y": null,
            "overflow_x": null,
            "grid_auto_flow": null,
            "grid_area": null,
            "grid_template_columns": null,
            "flex": null,
            "_model_name": "LayoutModel",
            "justify_items": null,
            "grid_row": null,
            "max_height": null,
            "align_content": null,
            "visibility": null,
            "align_self": null,
            "height": null,
            "min_height": null,
            "padding": null,
            "grid_auto_rows": null,
            "grid_gap": null,
            "max_width": null,
            "order": null,
            "_view_module_version": "1.2.0",
            "grid_template_areas": null,
            "object_position": null,
            "object_fit": null,
            "grid_auto_columns": null,
            "margin": null,
            "display": null,
            "left": null
          }
        },
        "1d3991507f244ea1aa491053ef6545f5": {
          "model_module": "@jupyter-widgets/controls",
          "model_name": "HBoxModel",
          "state": {
            "_view_name": "HBoxView",
            "_dom_classes": [],
            "_model_name": "HBoxModel",
            "_view_module": "@jupyter-widgets/controls",
            "_model_module_version": "1.5.0",
            "_view_count": null,
            "_view_module_version": "1.5.0",
            "box_style": "",
            "layout": "IPY_MODEL_4a6cb890c2f74d78a4792c8faacd33c6",
            "_model_module": "@jupyter-widgets/controls",
            "children": [
              "IPY_MODEL_8f3644b9184243639398e12d79a19094",
              "IPY_MODEL_ca148b26303d495d974661889624d4e7"
            ]
          }
        },
        "4a6cb890c2f74d78a4792c8faacd33c6": {
          "model_module": "@jupyter-widgets/base",
          "model_name": "LayoutModel",
          "state": {
            "_view_name": "LayoutView",
            "grid_template_rows": null,
            "right": null,
            "justify_content": null,
            "_view_module": "@jupyter-widgets/base",
            "overflow": null,
            "_model_module_version": "1.2.0",
            "_view_count": null,
            "flex_flow": null,
            "width": null,
            "min_width": null,
            "border": null,
            "align_items": null,
            "bottom": null,
            "_model_module": "@jupyter-widgets/base",
            "top": null,
            "grid_column": null,
            "overflow_y": null,
            "overflow_x": null,
            "grid_auto_flow": null,
            "grid_area": null,
            "grid_template_columns": null,
            "flex": null,
            "_model_name": "LayoutModel",
            "justify_items": null,
            "grid_row": null,
            "max_height": null,
            "align_content": null,
            "visibility": null,
            "align_self": null,
            "height": null,
            "min_height": null,
            "padding": null,
            "grid_auto_rows": null,
            "grid_gap": null,
            "max_width": null,
            "order": null,
            "_view_module_version": "1.2.0",
            "grid_template_areas": null,
            "object_position": null,
            "object_fit": null,
            "grid_auto_columns": null,
            "margin": null,
            "display": null,
            "left": null
          }
        },
        "8f3644b9184243639398e12d79a19094": {
          "model_module": "@jupyter-widgets/controls",
          "model_name": "FloatProgressModel",
          "state": {
            "_view_name": "ProgressView",
            "style": "IPY_MODEL_e040116d2b924ac783e496445c4c0029",
            "_dom_classes": [],
            "description": "100%",
            "_model_name": "FloatProgressModel",
            "bar_style": "success",
            "max": 3,
            "_view_module": "@jupyter-widgets/controls",
            "_model_module_version": "1.5.0",
            "value": 3,
            "_view_count": null,
            "_view_module_version": "1.5.0",
            "orientation": "horizontal",
            "min": 0,
            "description_tooltip": null,
            "_model_module": "@jupyter-widgets/controls",
            "layout": "IPY_MODEL_09802ff081d94681b065b9b7eb25b2c7"
          }
        },
        "ca148b26303d495d974661889624d4e7": {
          "model_module": "@jupyter-widgets/controls",
          "model_name": "HTMLModel",
          "state": {
            "_view_name": "HTMLView",
            "style": "IPY_MODEL_efa908f420844996ae626f224b377e7b",
            "_dom_classes": [],
            "description": "",
            "_model_name": "HTMLModel",
            "placeholder": "​",
            "_view_module": "@jupyter-widgets/controls",
            "_model_module_version": "1.5.0",
            "value": " 3/3 [07:57&lt;00:00, 159.23s/it]",
            "_view_count": null,
            "_view_module_version": "1.5.0",
            "description_tooltip": null,
            "_model_module": "@jupyter-widgets/controls",
            "layout": "IPY_MODEL_aec7d691a770474f8a6927b2f9c84867"
          }
        },
        "e040116d2b924ac783e496445c4c0029": {
          "model_module": "@jupyter-widgets/controls",
          "model_name": "ProgressStyleModel",
          "state": {
            "_view_name": "StyleView",
            "_model_name": "ProgressStyleModel",
            "description_width": "initial",
            "_view_module": "@jupyter-widgets/base",
            "_model_module_version": "1.5.0",
            "_view_count": null,
            "_view_module_version": "1.2.0",
            "bar_color": null,
            "_model_module": "@jupyter-widgets/controls"
          }
        },
        "09802ff081d94681b065b9b7eb25b2c7": {
          "model_module": "@jupyter-widgets/base",
          "model_name": "LayoutModel",
          "state": {
            "_view_name": "LayoutView",
            "grid_template_rows": null,
            "right": null,
            "justify_content": null,
            "_view_module": "@jupyter-widgets/base",
            "overflow": null,
            "_model_module_version": "1.2.0",
            "_view_count": null,
            "flex_flow": null,
            "width": null,
            "min_width": null,
            "border": null,
            "align_items": null,
            "bottom": null,
            "_model_module": "@jupyter-widgets/base",
            "top": null,
            "grid_column": null,
            "overflow_y": null,
            "overflow_x": null,
            "grid_auto_flow": null,
            "grid_area": null,
            "grid_template_columns": null,
            "flex": null,
            "_model_name": "LayoutModel",
            "justify_items": null,
            "grid_row": null,
            "max_height": null,
            "align_content": null,
            "visibility": null,
            "align_self": null,
            "height": null,
            "min_height": null,
            "padding": null,
            "grid_auto_rows": null,
            "grid_gap": null,
            "max_width": null,
            "order": null,
            "_view_module_version": "1.2.0",
            "grid_template_areas": null,
            "object_position": null,
            "object_fit": null,
            "grid_auto_columns": null,
            "margin": null,
            "display": null,
            "left": null
          }
        },
        "efa908f420844996ae626f224b377e7b": {
          "model_module": "@jupyter-widgets/controls",
          "model_name": "DescriptionStyleModel",
          "state": {
            "_view_name": "StyleView",
            "_model_name": "DescriptionStyleModel",
            "description_width": "",
            "_view_module": "@jupyter-widgets/base",
            "_model_module_version": "1.5.0",
            "_view_count": null,
            "_view_module_version": "1.2.0",
            "_model_module": "@jupyter-widgets/controls"
          }
        },
        "aec7d691a770474f8a6927b2f9c84867": {
          "model_module": "@jupyter-widgets/base",
          "model_name": "LayoutModel",
          "state": {
            "_view_name": "LayoutView",
            "grid_template_rows": null,
            "right": null,
            "justify_content": null,
            "_view_module": "@jupyter-widgets/base",
            "overflow": null,
            "_model_module_version": "1.2.0",
            "_view_count": null,
            "flex_flow": null,
            "width": null,
            "min_width": null,
            "border": null,
            "align_items": null,
            "bottom": null,
            "_model_module": "@jupyter-widgets/base",
            "top": null,
            "grid_column": null,
            "overflow_y": null,
            "overflow_x": null,
            "grid_auto_flow": null,
            "grid_area": null,
            "grid_template_columns": null,
            "flex": null,
            "_model_name": "LayoutModel",
            "justify_items": null,
            "grid_row": null,
            "max_height": null,
            "align_content": null,
            "visibility": null,
            "align_self": null,
            "height": null,
            "min_height": null,
            "padding": null,
            "grid_auto_rows": null,
            "grid_gap": null,
            "max_width": null,
            "order": null,
            "_view_module_version": "1.2.0",
            "grid_template_areas": null,
            "object_position": null,
            "object_fit": null,
            "grid_auto_columns": null,
            "margin": null,
            "display": null,
            "left": null
          }
        },
        "122b94a74de44070891254ae3a4d2911": {
          "model_module": "@jupyter-widgets/controls",
          "model_name": "HBoxModel",
          "state": {
            "_view_name": "HBoxView",
            "_dom_classes": [],
            "_model_name": "HBoxModel",
            "_view_module": "@jupyter-widgets/controls",
            "_model_module_version": "1.5.0",
            "_view_count": null,
            "_view_module_version": "1.5.0",
            "box_style": "",
            "layout": "IPY_MODEL_33d9a9332f4e47c0aced00d44b89218e",
            "_model_module": "@jupyter-widgets/controls",
            "children": [
              "IPY_MODEL_8f38b2ce41c34c22a942165eabea8de6",
              "IPY_MODEL_e24f5894eb774c53933ae28063e20390"
            ]
          }
        },
        "33d9a9332f4e47c0aced00d44b89218e": {
          "model_module": "@jupyter-widgets/base",
          "model_name": "LayoutModel",
          "state": {
            "_view_name": "LayoutView",
            "grid_template_rows": null,
            "right": null,
            "justify_content": null,
            "_view_module": "@jupyter-widgets/base",
            "overflow": null,
            "_model_module_version": "1.2.0",
            "_view_count": null,
            "flex_flow": null,
            "width": null,
            "min_width": null,
            "border": null,
            "align_items": null,
            "bottom": null,
            "_model_module": "@jupyter-widgets/base",
            "top": null,
            "grid_column": null,
            "overflow_y": null,
            "overflow_x": null,
            "grid_auto_flow": null,
            "grid_area": null,
            "grid_template_columns": null,
            "flex": null,
            "_model_name": "LayoutModel",
            "justify_items": null,
            "grid_row": null,
            "max_height": null,
            "align_content": null,
            "visibility": null,
            "align_self": null,
            "height": null,
            "min_height": null,
            "padding": null,
            "grid_auto_rows": null,
            "grid_gap": null,
            "max_width": null,
            "order": null,
            "_view_module_version": "1.2.0",
            "grid_template_areas": null,
            "object_position": null,
            "object_fit": null,
            "grid_auto_columns": null,
            "margin": null,
            "display": null,
            "left": null
          }
        },
        "8f38b2ce41c34c22a942165eabea8de6": {
          "model_module": "@jupyter-widgets/controls",
          "model_name": "FloatProgressModel",
          "state": {
            "_view_name": "ProgressView",
            "style": "IPY_MODEL_3b3dda924ddf4fc4bd65e0950bcd8371",
            "_dom_classes": [],
            "description": "100%",
            "_model_name": "FloatProgressModel",
            "bar_style": "success",
            "max": 13,
            "_view_module": "@jupyter-widgets/controls",
            "_model_module_version": "1.5.0",
            "value": 13,
            "_view_count": null,
            "_view_module_version": "1.5.0",
            "orientation": "horizontal",
            "min": 0,
            "description_tooltip": null,
            "_model_module": "@jupyter-widgets/controls",
            "layout": "IPY_MODEL_7642ed1889224c1289d3bf09ad15c8d7"
          }
        },
        "e24f5894eb774c53933ae28063e20390": {
          "model_module": "@jupyter-widgets/controls",
          "model_name": "HTMLModel",
          "state": {
            "_view_name": "HTMLView",
            "style": "IPY_MODEL_5a705280b6a34d41a132371bdc4ccd64",
            "_dom_classes": [],
            "description": "",
            "_model_name": "HTMLModel",
            "placeholder": "​",
            "_view_module": "@jupyter-widgets/controls",
            "_model_module_version": "1.5.0",
            "value": " 13/13 [18:37&lt;00:00, 85.95s/it]",
            "_view_count": null,
            "_view_module_version": "1.5.0",
            "description_tooltip": null,
            "_model_module": "@jupyter-widgets/controls",
            "layout": "IPY_MODEL_ab58128f8fb04e61a3575f091a32cbff"
          }
        },
        "3b3dda924ddf4fc4bd65e0950bcd8371": {
          "model_module": "@jupyter-widgets/controls",
          "model_name": "ProgressStyleModel",
          "state": {
            "_view_name": "StyleView",
            "_model_name": "ProgressStyleModel",
            "description_width": "initial",
            "_view_module": "@jupyter-widgets/base",
            "_model_module_version": "1.5.0",
            "_view_count": null,
            "_view_module_version": "1.2.0",
            "bar_color": null,
            "_model_module": "@jupyter-widgets/controls"
          }
        },
        "7642ed1889224c1289d3bf09ad15c8d7": {
          "model_module": "@jupyter-widgets/base",
          "model_name": "LayoutModel",
          "state": {
            "_view_name": "LayoutView",
            "grid_template_rows": null,
            "right": null,
            "justify_content": null,
            "_view_module": "@jupyter-widgets/base",
            "overflow": null,
            "_model_module_version": "1.2.0",
            "_view_count": null,
            "flex_flow": null,
            "width": null,
            "min_width": null,
            "border": null,
            "align_items": null,
            "bottom": null,
            "_model_module": "@jupyter-widgets/base",
            "top": null,
            "grid_column": null,
            "overflow_y": null,
            "overflow_x": null,
            "grid_auto_flow": null,
            "grid_area": null,
            "grid_template_columns": null,
            "flex": null,
            "_model_name": "LayoutModel",
            "justify_items": null,
            "grid_row": null,
            "max_height": null,
            "align_content": null,
            "visibility": null,
            "align_self": null,
            "height": null,
            "min_height": null,
            "padding": null,
            "grid_auto_rows": null,
            "grid_gap": null,
            "max_width": null,
            "order": null,
            "_view_module_version": "1.2.0",
            "grid_template_areas": null,
            "object_position": null,
            "object_fit": null,
            "grid_auto_columns": null,
            "margin": null,
            "display": null,
            "left": null
          }
        },
        "5a705280b6a34d41a132371bdc4ccd64": {
          "model_module": "@jupyter-widgets/controls",
          "model_name": "DescriptionStyleModel",
          "state": {
            "_view_name": "StyleView",
            "_model_name": "DescriptionStyleModel",
            "description_width": "",
            "_view_module": "@jupyter-widgets/base",
            "_model_module_version": "1.5.0",
            "_view_count": null,
            "_view_module_version": "1.2.0",
            "_model_module": "@jupyter-widgets/controls"
          }
        },
        "ab58128f8fb04e61a3575f091a32cbff": {
          "model_module": "@jupyter-widgets/base",
          "model_name": "LayoutModel",
          "state": {
            "_view_name": "LayoutView",
            "grid_template_rows": null,
            "right": null,
            "justify_content": null,
            "_view_module": "@jupyter-widgets/base",
            "overflow": null,
            "_model_module_version": "1.2.0",
            "_view_count": null,
            "flex_flow": null,
            "width": null,
            "min_width": null,
            "border": null,
            "align_items": null,
            "bottom": null,
            "_model_module": "@jupyter-widgets/base",
            "top": null,
            "grid_column": null,
            "overflow_y": null,
            "overflow_x": null,
            "grid_auto_flow": null,
            "grid_area": null,
            "grid_template_columns": null,
            "flex": null,
            "_model_name": "LayoutModel",
            "justify_items": null,
            "grid_row": null,
            "max_height": null,
            "align_content": null,
            "visibility": null,
            "align_self": null,
            "height": null,
            "min_height": null,
            "padding": null,
            "grid_auto_rows": null,
            "grid_gap": null,
            "max_width": null,
            "order": null,
            "_view_module_version": "1.2.0",
            "grid_template_areas": null,
            "object_position": null,
            "object_fit": null,
            "grid_auto_columns": null,
            "margin": null,
            "display": null,
            "left": null
          }
        },
        "edfdd3b6776f4281b5301a1dafe0c8bf": {
          "model_module": "@jupyter-widgets/controls",
          "model_name": "HBoxModel",
          "state": {
            "_view_name": "HBoxView",
            "_dom_classes": [],
            "_model_name": "HBoxModel",
            "_view_module": "@jupyter-widgets/controls",
            "_model_module_version": "1.5.0",
            "_view_count": null,
            "_view_module_version": "1.5.0",
            "box_style": "",
            "layout": "IPY_MODEL_d93f6d339272440793e9909ca86e7d38",
            "_model_module": "@jupyter-widgets/controls",
            "children": [
              "IPY_MODEL_4b410df936544624a1994a3820bcec20",
              "IPY_MODEL_a8769f7fdc96488aaad2c10b9e4e91b6"
            ]
          }
        },
        "d93f6d339272440793e9909ca86e7d38": {
          "model_module": "@jupyter-widgets/base",
          "model_name": "LayoutModel",
          "state": {
            "_view_name": "LayoutView",
            "grid_template_rows": null,
            "right": null,
            "justify_content": null,
            "_view_module": "@jupyter-widgets/base",
            "overflow": null,
            "_model_module_version": "1.2.0",
            "_view_count": null,
            "flex_flow": null,
            "width": null,
            "min_width": null,
            "border": null,
            "align_items": null,
            "bottom": null,
            "_model_module": "@jupyter-widgets/base",
            "top": null,
            "grid_column": null,
            "overflow_y": null,
            "overflow_x": null,
            "grid_auto_flow": null,
            "grid_area": null,
            "grid_template_columns": null,
            "flex": null,
            "_model_name": "LayoutModel",
            "justify_items": null,
            "grid_row": null,
            "max_height": null,
            "align_content": null,
            "visibility": null,
            "align_self": null,
            "height": null,
            "min_height": null,
            "padding": null,
            "grid_auto_rows": null,
            "grid_gap": null,
            "max_width": null,
            "order": null,
            "_view_module_version": "1.2.0",
            "grid_template_areas": null,
            "object_position": null,
            "object_fit": null,
            "grid_auto_columns": null,
            "margin": null,
            "display": null,
            "left": null
          }
        },
        "4b410df936544624a1994a3820bcec20": {
          "model_module": "@jupyter-widgets/controls",
          "model_name": "FloatProgressModel",
          "state": {
            "_view_name": "ProgressView",
            "style": "IPY_MODEL_9bd62501f9734d53b5b1e7d08164988f",
            "_dom_classes": [],
            "description": "100%",
            "_model_name": "FloatProgressModel",
            "bar_style": "success",
            "max": 1,
            "_view_module": "@jupyter-widgets/controls",
            "_model_module_version": "1.5.0",
            "value": 1,
            "_view_count": null,
            "_view_module_version": "1.5.0",
            "orientation": "horizontal",
            "min": 0,
            "description_tooltip": null,
            "_model_module": "@jupyter-widgets/controls",
            "layout": "IPY_MODEL_7c54d74531824ff4b52f2003f800ba22"
          }
        },
        "a8769f7fdc96488aaad2c10b9e4e91b6": {
          "model_module": "@jupyter-widgets/controls",
          "model_name": "HTMLModel",
          "state": {
            "_view_name": "HTMLView",
            "style": "IPY_MODEL_c455e4989954433c88a00e007b5af7cb",
            "_dom_classes": [],
            "description": "",
            "_model_name": "HTMLModel",
            "placeholder": "​",
            "_view_module": "@jupyter-widgets/controls",
            "_model_module_version": "1.5.0",
            "value": " 1/1 [18:33&lt;00:00, 1113.02s/it]",
            "_view_count": null,
            "_view_module_version": "1.5.0",
            "description_tooltip": null,
            "_model_module": "@jupyter-widgets/controls",
            "layout": "IPY_MODEL_59932e1ca40942eda0ed71c24fc1e22f"
          }
        },
        "9bd62501f9734d53b5b1e7d08164988f": {
          "model_module": "@jupyter-widgets/controls",
          "model_name": "ProgressStyleModel",
          "state": {
            "_view_name": "StyleView",
            "_model_name": "ProgressStyleModel",
            "description_width": "initial",
            "_view_module": "@jupyter-widgets/base",
            "_model_module_version": "1.5.0",
            "_view_count": null,
            "_view_module_version": "1.2.0",
            "bar_color": null,
            "_model_module": "@jupyter-widgets/controls"
          }
        },
        "7c54d74531824ff4b52f2003f800ba22": {
          "model_module": "@jupyter-widgets/base",
          "model_name": "LayoutModel",
          "state": {
            "_view_name": "LayoutView",
            "grid_template_rows": null,
            "right": null,
            "justify_content": null,
            "_view_module": "@jupyter-widgets/base",
            "overflow": null,
            "_model_module_version": "1.2.0",
            "_view_count": null,
            "flex_flow": null,
            "width": null,
            "min_width": null,
            "border": null,
            "align_items": null,
            "bottom": null,
            "_model_module": "@jupyter-widgets/base",
            "top": null,
            "grid_column": null,
            "overflow_y": null,
            "overflow_x": null,
            "grid_auto_flow": null,
            "grid_area": null,
            "grid_template_columns": null,
            "flex": null,
            "_model_name": "LayoutModel",
            "justify_items": null,
            "grid_row": null,
            "max_height": null,
            "align_content": null,
            "visibility": null,
            "align_self": null,
            "height": null,
            "min_height": null,
            "padding": null,
            "grid_auto_rows": null,
            "grid_gap": null,
            "max_width": null,
            "order": null,
            "_view_module_version": "1.2.0",
            "grid_template_areas": null,
            "object_position": null,
            "object_fit": null,
            "grid_auto_columns": null,
            "margin": null,
            "display": null,
            "left": null
          }
        },
        "c455e4989954433c88a00e007b5af7cb": {
          "model_module": "@jupyter-widgets/controls",
          "model_name": "DescriptionStyleModel",
          "state": {
            "_view_name": "StyleView",
            "_model_name": "DescriptionStyleModel",
            "description_width": "",
            "_view_module": "@jupyter-widgets/base",
            "_model_module_version": "1.5.0",
            "_view_count": null,
            "_view_module_version": "1.2.0",
            "_model_module": "@jupyter-widgets/controls"
          }
        },
        "59932e1ca40942eda0ed71c24fc1e22f": {
          "model_module": "@jupyter-widgets/base",
          "model_name": "LayoutModel",
          "state": {
            "_view_name": "LayoutView",
            "grid_template_rows": null,
            "right": null,
            "justify_content": null,
            "_view_module": "@jupyter-widgets/base",
            "overflow": null,
            "_model_module_version": "1.2.0",
            "_view_count": null,
            "flex_flow": null,
            "width": null,
            "min_width": null,
            "border": null,
            "align_items": null,
            "bottom": null,
            "_model_module": "@jupyter-widgets/base",
            "top": null,
            "grid_column": null,
            "overflow_y": null,
            "overflow_x": null,
            "grid_auto_flow": null,
            "grid_area": null,
            "grid_template_columns": null,
            "flex": null,
            "_model_name": "LayoutModel",
            "justify_items": null,
            "grid_row": null,
            "max_height": null,
            "align_content": null,
            "visibility": null,
            "align_self": null,
            "height": null,
            "min_height": null,
            "padding": null,
            "grid_auto_rows": null,
            "grid_gap": null,
            "max_width": null,
            "order": null,
            "_view_module_version": "1.2.0",
            "grid_template_areas": null,
            "object_position": null,
            "object_fit": null,
            "grid_auto_columns": null,
            "margin": null,
            "display": null,
            "left": null
          }
        }
      }
    }
  },
  "cells": [
    {
      "cell_type": "markdown",
      "metadata": {
        "id": "kBm8HkN30KA4"
      },
      "source": [
        "# Applied Machine Learning Challenge \n",
        "University of Trento, A.y. 2020-2021 \\\n",
        "Roosters Team\n"
      ]
    },
    {
      "cell_type": "code",
      "metadata": {
        "colab": {
          "base_uri": "https://localhost:8080/"
        },
        "id": "nbikjL3H1qz8",
        "outputId": "6b9ef217-b5ac-466b-89f0-2ce0efcb6f25"
      },
      "source": [
        "from google.colab import drive\n",
        "drive.mount('/content/drive',force_remount=True)"
      ],
      "execution_count": 1,
      "outputs": [
        {
          "output_type": "stream",
          "text": [
            "Mounted at /content/drive\n"
          ],
          "name": "stdout"
        }
      ]
    },
    {
      "cell_type": "code",
      "metadata": {
        "id": "VmArsGxakdDC"
      },
      "source": [
        "#Define roots to the train and test folders used throughout the notebook\n",
        "#google landmarks data\n",
        "training_root = \"/content/drive/.shortcut-targets-by-id/15RXzXpljEuRWdjQPcx4Kd8EDKWgjujOt/AML/GoogleLandmarksSubset/training\"\n",
        "#competition data root\n",
        "test_root = \"/content/drive/.shortcut-targets-by-id/0B5NgX9ua1kQkfmxseGVTVDVuSDROaU1EMFpZUTRvWU9pREx6eXJTSVBHLWFKYmVhT2R6Tjg/Applied Machine Learning LM Data Science/Challenge/dataset/test\"\n",
        "#Arbitrary path to save model\n",
        "model_save_dir = '/content/drive/.shortcut-targets-by-id/15RXzXpljEuRWdjQPcx4Kd8EDKWgjujOt/AML/AMLretrievalv1.pth'\n",
        "#Data provided by instructors at the beginning of the couse to validate our models \n",
        "validation_query_root = '/content/drive/.shortcut-targets-by-id/0B5NgX9ua1kQkfmxseGVTVDVuSDROaU1EMFpZUTRvWU9pREx6eXJTSVBHLWFKYmVhT2R6Tjg/Applied Machine Learning LM Data Science/Challenge/dataset/validation/query'\n",
        "validation_gallery_root = '/content/drive/.shortcut-targets-by-id/0B5NgX9ua1kQkfmxseGVTVDVuSDROaU1EMFpZUTRvWU9pREx6eXJTSVBHLWFKYmVhT2R6Tjg/Applied Machine Learning LM Data Science/Challenge/dataset/validation/gallery'"
      ],
      "execution_count": 10,
      "outputs": []
    },
    {
      "cell_type": "markdown",
      "metadata": {
        "id": "VZfEhi79VvkK"
      },
      "source": [
        "###Dataset and Dataloader"
      ]
    },
    {
      "cell_type": "code",
      "metadata": {
        "id": "qQtA-g7F_Hi4"
      },
      "source": [
        "import torch\n",
        "from torch.utils.data import Dataset\n",
        "from torchvision.datasets import ImageFolder\n",
        "import os \n",
        "from skimage import io\n",
        "from PIL import Image\n",
        "\n",
        "\n",
        "class AMLtestImages(Dataset):\n",
        "  \"\"\"\n",
        "  This class is meant to handle the images released during the competition day for AML 2021.\n",
        "\n",
        "  Arguments:\n",
        "  parentdir: should contain two folders: gallery and query, containing each only image files.\n",
        "  split: dataset to be instantiated, either gallery or query, as a string. \n",
        "  \"\"\"\n",
        "  def __init__(self,parentdir,split,transform=None):\n",
        "    self.split = split\n",
        "    self.transform = transform\n",
        "    self.root_dir = parentdir\n",
        "    self.gallery = sorted(list(os.listdir(os.path.join(parentdir, 'gallery'))))\n",
        "    self.query = sorted(list(os.listdir(os.path.join(parentdir, 'query'))))\n",
        "  \n",
        "  def __getitem__(self,idx):\n",
        "    if self.split == 'gallery':\n",
        "      idximagepath = os.path.join(self.root_dir, 'gallery', self.gallery[idx]) #path to image #idx\n",
        "      image = Image.open(idximagepath).convert('RGB')\n",
        "      if self.transform:\n",
        "            image = self.transform(image)\n",
        "      return {'pic' : image, 'name' : self.gallery[idx]}\n",
        "\n",
        "    if self.split == 'query':\n",
        "      idximagepath = os.path.join(self.root_dir, 'query', self.query[idx]) #path to image #idx\n",
        "      image = Image.open(idximagepath).convert('RGB')\n",
        "      if self.transform:\n",
        "            image = self.transform(image)\n",
        "      return {'pic' : image, 'name' : self.query[idx]}\n",
        "\n",
        "  def __len__(self):\n",
        "    if self.split == 'gallery':\n",
        "      return len(self.gallery )\n",
        "    if self.split == 'query':\n",
        "      return len(self.query )\n",
        "\n",
        "\n",
        "\n",
        "class ImageFolderWithPaths(ImageFolder):\n",
        "    \"\"\"\n",
        "    Custom dataset that returns images as well as their filenames. \n",
        "    Extends torchvision.datasets.ImageFolder\n",
        "    \"\"\"\n",
        "\n",
        "    # override the __getitem__ method. this is the method that dataloader calls\n",
        "    def __getitem__(self, index):\n",
        "        # this is what ImageFolder normally returns \n",
        "        original_tuple = super(ImageFolderWithPaths, self).__getitem__(index)\n",
        "        # the image file path\n",
        "        path = self.imgs[index][0]\n",
        "        imgname = path.split(os.sep)[-1]\n",
        "\n",
        "        return {'pic' : original_tuple[0], 'name' : imgname}"
      ],
      "execution_count": 3,
      "outputs": []
    },
    {
      "cell_type": "code",
      "metadata": {
        "id": "bp_u9sfR0Bb7"
      },
      "source": [
        "import torch\n",
        "from torchvision import transforms\n",
        "import numpy as np\n",
        "\n",
        "\n",
        "def get_data(training_root, test_root, batch_size, test_batch_size, validation_query_root=None,validation_gallery_root=None):\n",
        "\n",
        "  # Transformations to be applied \n",
        "  mean = np.array([0.485, 0.456, 0.406])\n",
        "  std = np.array([0.229, 0.224, 0.225])\n",
        "  transform_train = transforms.Compose([transforms.ToTensor(),\n",
        "                                       transforms.Normalize(mean, std),\n",
        "                                       transforms.Resize((256,256)),\n",
        "                                       transforms.RandomHorizontalFlip(p=0.5),\n",
        "                                       transforms.RandomCrop((224,224))])#cannot be lower than 224\n",
        "  transform_test = transforms.Compose([transforms.ToTensor(),\n",
        "                                       transforms.Normalize(mean, std),\n",
        "                                       transforms.Resize((224,224))])#cannot be lower than 224\n",
        "  \n",
        "  # Dataset instances\n",
        "  dataset_train = ImageFolder(training_root, transform = transform_train)\n",
        "  dataset_gall = AMLtestImages(test_root,'gallery', transform = transform_test)\n",
        "  dataset_query = AMLtestImages(test_root,'query', transform = transform_test)\n",
        "  if validation_gallery_root and validation_query_root:\n",
        "    dataset_val_query = ImageFolderWithPaths(validation_query_root, transform=transform_test)\n",
        "    dataset_val_gall = ImageFolderWithPaths(validation_gallery_root, transform=transform_test)\n",
        "  \n",
        "  #size of last layer\n",
        "  numclasses = len(dataset_train.classes)\n",
        "\n",
        "  # Initialization of dataloaders\n",
        "  train_loader = torch.utils.data.DataLoader(dataset_train, batch_size, shuffle=True)\n",
        "  gall_loader = torch.utils.data.DataLoader(dataset_gall, test_batch_size, shuffle=False) \n",
        "  query_loader = torch.utils.data.DataLoader(dataset_query, test_batch_size, shuffle=False) \n",
        "  if validation_gallery_root and validation_query_root:\n",
        "    query_validation_loader = torch.utils.data.DataLoader(dataset_val_query, test_batch_size, shuffle=False) \n",
        "    gall_validation_loader = torch.utils.data.DataLoader(dataset_val_gall, test_batch_size, shuffle=False) \n",
        "  else: \n",
        "    query_validation_loader = None\n",
        "    gall_validation_loader = None\n",
        "\n",
        "\n",
        "  \n",
        "  return train_loader, gall_loader, query_loader, numclasses, query_validation_loader, gall_validation_loader"
      ],
      "execution_count": 4,
      "outputs": []
    },
    {
      "cell_type": "markdown",
      "metadata": {
        "id": "pc50MtMFOyl3"
      },
      "source": [
        "### Defining the network "
      ]
    },
    {
      "cell_type": "code",
      "metadata": {
        "id": "zEGURsNDOx2d"
      },
      "source": [
        "import torch.nn as nn\n",
        "from torch import Tensor\n",
        "from typing import Type, Any, Callable, Union, List, Optional\n",
        "from torchvision.models.resnet import ResNet,Bottleneck,BasicBlock,model_urls\n",
        "from torch.hub import load_state_dict_from_url\n",
        "import torchvision\n",
        "from torch.utils.tensorboard import SummaryWriter\n",
        "\n",
        "def get_net(num_classes):\n",
        "  myresnet = torchvision.models.resnet50(pretrained=True)\n",
        "  # Substitute last layer with a FC of specified dimension  \n",
        "  myresnet.fc = nn.Sequential(nn.Linear(2048,num_classes))\n",
        "\n",
        "  return myresnet\n",
        "\n"
      ],
      "execution_count": 5,
      "outputs": []
    },
    {
      "cell_type": "markdown",
      "metadata": {
        "id": "yuSWendFemcE"
      },
      "source": [
        "###Train and utility functions"
      ]
    },
    {
      "cell_type": "code",
      "metadata": {
        "id": "mPATIprXelr9"
      },
      "source": [
        "def get_optimizer(model, lr, momentum):\n",
        "    \n",
        "  # the newly initialized layer and the rest of the network need to be trained \n",
        "  # with a differentlearning rate \n",
        "  \n",
        "  final_layer_weights = []\n",
        "  rest_of_the_net_weights = []\n",
        "  \n",
        "  # layers of the network\n",
        "  for name, param in model.named_parameters():\n",
        "    if name.startswith('fc'):\n",
        "      final_layer_weights.append(param)\n",
        "    else:\n",
        "      rest_of_the_net_weights.append(param)\n",
        "  \n",
        "  # training: \n",
        "  # final_layer_weights with learning_rate = lr\n",
        "  # rest_of_the_net_weights with learning_rate = lr / 10\n",
        "  \n",
        "  optimizer = torch.optim.SGD([\n",
        "      {'params': rest_of_the_net_weights},\n",
        "      {'params': final_layer_weights, 'lr': lr}\n",
        "  ], lr=lr / 10, momentum=momentum)\n",
        "  \n",
        "  return optimizer\n",
        "\n",
        "\n",
        "def train(net,data_loader,optimizer,cost_function, device):\n",
        "  samples = 0.\n",
        "  cumulative_loss = 0.\n",
        "  cumulative_accuracy = 0.\n",
        "  \n",
        "  net.train() \n",
        "  for batch_idx, (inputs, targets) in enumerate(data_loader):\n",
        "    # Load data into GPU if available\n",
        "    inputs = inputs.to(device)\n",
        "    targets = targets.to(device)\n",
        "    outputs = net(inputs)\n",
        "\n",
        "    # Apply the loss\n",
        "    loss = cost_function(outputs,targets)\n",
        "      \n",
        "    # Backward pass\n",
        "    loss.backward()\n",
        "    optimizer.step()\n",
        "    optimizer.zero_grad()\n",
        "\n",
        "    # metrics to be returned after each epoch\n",
        "    samples+=inputs.shape[0]\n",
        "    cumulative_loss += loss.item()\n",
        "    _, predicted = outputs.max(1)\n",
        "    cumulative_accuracy += predicted.eq(targets).sum().item()\n",
        "\n",
        "  return cumulative_loss/samples, cumulative_accuracy/samples*100\n"
      ],
      "execution_count": 7,
      "outputs": []
    },
    {
      "cell_type": "markdown",
      "metadata": {
        "id": "j667L6HDew3g"
      },
      "source": [
        "### Main"
      ]
    },
    {
      "cell_type": "code",
      "metadata": {
        "id": "V6eKy-c4fRiD"
      },
      "source": [
        "def main(batch_size=32,\n",
        "         test_batch_size = 32, \n",
        "         learning_rate=0.001, \n",
        "         momentum=0.9, \n",
        "         epochs=50, \n",
        "         visualization_name='ResNet50', \n",
        "         training_root=None,\n",
        "         test_root=None,\n",
        "         save_dir=None):\n",
        "  \n",
        "  writer = SummaryWriter(log_dir=\"runs/exp1\")\n",
        "  device = torch.device(\"cuda\" if torch.cuda.is_available() else \"cpu\")\n",
        "  \n",
        "  # Instantiates dataloaders\n",
        "  train_loader, _, _, numclasses,_ , _ = get_data(training_root, test_root, batch_size = batch_size, test_batch_size = test_batch_size)\n",
        "  \n",
        "  # Instantiates the model\n",
        "  net = get_net(numclasses).to(device)\n",
        "  \n",
        "  # Instantiates the optimizer\n",
        "  optimizer = get_optimizer(net, learning_rate, momentum)\n",
        "  \n",
        "  # Instantiates the cost function\n",
        "  cost_function = nn.CrossEntropyLoss()\n",
        "\n",
        "\n",
        "  for e in range(epochs):\n",
        "    train_loss, train_accuracy = train(net, train_loader, optimizer, cost_function, device)\n",
        "    print('Epoch: {:d}'.format(e+1))\n",
        "    print('\\t Training loss {:.5f}, Training accuracy {:.2f}'.format(train_loss, train_accuracy))\n",
        "    print('\\t Test loss {:.5f}, Test accuracy {:.2f}'.format(test_loss, test_accuracy))\n",
        "    print('-----------------------------------------------------')\n",
        "    \n",
        "    # Add values to plots\n",
        "    writer.add_scalar('Loss/train_loss', train_loss, e + 1)\n",
        "    writer.add_scalar('Accuracy/train_accuracy', train_accuracy, e + 1)\n",
        "\n",
        "\n",
        "  # Closes the logger\n",
        "  writer.close()\n",
        "  # Save the model for later usage \n",
        "  torch.save(net.state_dict(), save_dir)"
      ],
      "execution_count": 7,
      "outputs": []
    },
    {
      "cell_type": "markdown",
      "metadata": {
        "id": "795qoWT0jn36"
      },
      "source": [
        "###Training the network and visualizing results "
      ]
    },
    {
      "cell_type": "code",
      "metadata": {
        "id": "aIQ8w2BKjhT6"
      },
      "source": [
        "main(training_root=training_root, test_root=test_root, save_dir = model_save_dir)"
      ],
      "execution_count": null,
      "outputs": []
    },
    {
      "cell_type": "code",
      "metadata": {
        "id": "fDLJy92LjQtA"
      },
      "source": [
        "#visualize the tensorboard output \n",
        "%load_ext tensorboard\n",
        "%tensorboard --logdir=runs"
      ],
      "execution_count": null,
      "outputs": []
    },
    {
      "cell_type": "markdown",
      "metadata": {
        "id": "AxghcIWwe8TY"
      },
      "source": [
        "###Computing distances between gallery and query"
      ]
    },
    {
      "cell_type": "code",
      "metadata": {
        "id": "TY1GGYbQRWXO"
      },
      "source": [
        "from tqdm.notebook import tqdm\n",
        "import requests\n",
        "import json\n",
        "\n",
        "#define a forward hook function to get embeddings from net\n",
        "class SaveOutput():\n",
        "\n",
        "  def __init__(self):\n",
        "    self.device = torch.device(\"cuda\" if torch.cuda.is_available() else \"cpu\")\n",
        "    self.outputs = torch.Tensor(0,2048).to(self.device)\n",
        "      \n",
        "  def __call__(self, module, module_in, module_out):\n",
        "    self.outputs = torch.cat((self.outputs, module_out.squeeze()), dim=0)\n",
        "      \n",
        "  def clear(self):\n",
        "    self.outputs = torch.Tensor((0,2048))\n",
        "\n",
        "\n",
        "def get_mappings(net, gall_loader, query_loader):\n",
        "  #Forward pass on all images\n",
        "  with torch.no_grad():\n",
        "    device = torch.device(\"cuda\" if torch.cuda.is_available() else \"cpu\")\n",
        "    results = {}\n",
        "    for phase in ['gallery','query']:\n",
        "      img_embedding = SaveOutput()\n",
        "      net.avgpool.register_forward_hook(img_embedding)\n",
        "      img_names = []\n",
        "      if phase == 'gallery':\n",
        "        loader = gall_loader\n",
        "      else:\n",
        "        loader = query_loader\n",
        "      \n",
        "      for idx, sample in enumerate(tqdm(loader)):\n",
        "        #Send obect to GPU if available\n",
        "        sample['pic'] = sample['pic'].to(device)\n",
        "        out = net(sample['pic'])\n",
        "        img_names.extend(sample['name'])\n",
        "      #Save the computed embeddings \n",
        "      print(f'--> Forward pass on {phase} images completed. Shape of output tensor: {img_embedding.outputs.shape}')\n",
        "      results[phase] = {'emb': img_embedding.outputs, 'names': img_names}\n",
        "\n",
        "  #Building distance matrix\n",
        "  distances = torch.cdist(results['query']['emb'],results['gallery']['emb'])\n",
        "  print(f'--> Distance matrix computed with size:{distances.size()}')\n",
        "  indices = torch.argsort(distances, dim=1) #unit of analysis for sorting is the row\n",
        "\n",
        "  #Finally build the dictionary with the results \n",
        "  mappings = {}\n",
        "  for i in range(indices.shape[0]):#iterate over query length\n",
        "    matches = []\n",
        "    for j in range(indices.shape[1]):#iterate over gallery length\n",
        "      #get correct matching gallery img name \n",
        "      current_gall_name = results['gallery']['names'][indices[i,j]]\n",
        "      matches.append(current_gall_name)\n",
        "    current_qry_name = results['query']['names'][i]\n",
        "    mappings[current_qry_name] = matches\n",
        "\n",
        "  return mappings\n",
        "\n"
      ],
      "execution_count": 16,
      "outputs": []
    },
    {
      "cell_type": "markdown",
      "metadata": {
        "id": "p373lOfDc3Bn"
      },
      "source": [
        "###Get results for validation\n"
      ]
    },
    {
      "cell_type": "code",
      "metadata": {
        "colab": {
          "base_uri": "https://localhost:8080/",
          "height": 217,
          "referenced_widgets": [
            "09495b4d8ce94e2880954e93fa93797c",
            "018cfbb1ac0f4ff6ac2b3175890d2db1",
            "b4f8e3a8a25142b39ee2ac57194382ed",
            "ccc6f355fd0046cba99fed053ef8d127",
            "d68e9f2c1d954a23934612781c0a3c87",
            "aae480f125f049489f42a54faa7648c6",
            "1bba5fe98f8547ee9aefb10860750889",
            "63838d2471144436907c8e40ab0c4f21",
            "1d3991507f244ea1aa491053ef6545f5",
            "4a6cb890c2f74d78a4792c8faacd33c6",
            "8f3644b9184243639398e12d79a19094",
            "ca148b26303d495d974661889624d4e7",
            "e040116d2b924ac783e496445c4c0029",
            "09802ff081d94681b065b9b7eb25b2c7",
            "efa908f420844996ae626f224b377e7b",
            "aec7d691a770474f8a6927b2f9c84867"
          ]
        },
        "id": "nc3fM9Jzc8DG",
        "outputId": "ad4e6b2d-1d0c-41b7-bb15-a6d2d7987f5a"
      },
      "source": [
        "#If running as a Notebook, please execute previous cells \n",
        "def get_ground_truth(validation_query_root, validation_gallery_root):\n",
        "  ret = {}\n",
        "  for qry_folder in os.listdir(validation_query_root):\n",
        "    try:\n",
        "      matches = set(os.listdir(os.path.join(validation_gallery_root,qry_folder)))\n",
        "    except:\n",
        "      matches = set()\n",
        "    for qry_img in os.listdir(os.path.join(validation_query_root,qry_folder)):\n",
        "      ret[qry_img] = matches\n",
        "  \n",
        "  return ret\n",
        "    \n",
        "def topk(result,ground,k):\n",
        "  correct = 0\n",
        "  total = 0\n",
        "  for qry in result: \n",
        "    total+=1\n",
        "    for i in range(k): \n",
        "      #check if any of the top k matches is in ground truth\n",
        "      if result[qry][i] in ground[qry]:\n",
        "        correct+=1\n",
        "        break\n",
        "  return correct/total*100\n",
        "\n",
        "\n",
        "_, _, _, numclasses, query_loader, gall_loader = get_data(training_root, test_root, 32, 32, validation_query_root, validation_gallery_root)\n",
        "# Instantiating the network\n",
        "device = torch.device(\"cuda\" if torch.cuda.is_available() else \"cpu\")\n",
        "net = get_net(1394).to(device) #argument of get_net should be equal to numclasses (number of classes used for training the net)\n",
        "net.load_state_dict(torch.load(model_save_dir,map_location=device))\n",
        "computed_dic = get_mappings(net, gall_loader, query_loader)\n",
        "truth_dic = get_ground_truth(validation_query_root, validation_gallery_root)\n",
        "\n",
        "for k in [1,3,10]:\n",
        "  print(f'Top {k} accuracy: {topk(computed_dic, truth_dic,k):.2f}')\n"
      ],
      "execution_count": 18,
      "outputs": [
        {
          "output_type": "display_data",
          "data": {
            "application/vnd.jupyter.widget-view+json": {
              "model_id": "09495b4d8ce94e2880954e93fa93797c",
              "version_minor": 0,
              "version_major": 2
            },
            "text/plain": [
              "HBox(children=(FloatProgress(value=0.0, max=17.0), HTML(value='')))"
            ]
          },
          "metadata": {
            "tags": []
          }
        },
        {
          "output_type": "stream",
          "text": [
            "\n",
            "--> Forward pass on gallery images completed. Shape of output tensor: torch.Size([534, 2048])\n"
          ],
          "name": "stdout"
        },
        {
          "output_type": "display_data",
          "data": {
            "application/vnd.jupyter.widget-view+json": {
              "model_id": "1d3991507f244ea1aa491053ef6545f5",
              "version_minor": 0,
              "version_major": 2
            },
            "text/plain": [
              "HBox(children=(FloatProgress(value=0.0, max=3.0), HTML(value='')))"
            ]
          },
          "metadata": {
            "tags": []
          }
        },
        {
          "output_type": "stream",
          "text": [
            "\n",
            "--> Forward pass on query images completed. Shape of output tensor: torch.Size([70, 2048])\n",
            "--> Distance matrix computed with size:torch.Size([70, 534])\n",
            "Top 1 accuracy: 90.00\n",
            "Top 3 accuracy: 94.29\n",
            "Top 10 accuracy: 94.29\n"
          ],
          "name": "stdout"
        }
      ]
    },
    {
      "cell_type": "markdown",
      "metadata": {
        "id": "BrvUo2V5cx09"
      },
      "source": [
        "###Get results for the competition day"
      ]
    },
    {
      "cell_type": "code",
      "metadata": {
        "colab": {
          "base_uri": "https://localhost:8080/",
          "height": 183,
          "referenced_widgets": [
            "122b94a74de44070891254ae3a4d2911",
            "33d9a9332f4e47c0aced00d44b89218e",
            "8f38b2ce41c34c22a942165eabea8de6",
            "e24f5894eb774c53933ae28063e20390",
            "3b3dda924ddf4fc4bd65e0950bcd8371",
            "7642ed1889224c1289d3bf09ad15c8d7",
            "5a705280b6a34d41a132371bdc4ccd64",
            "ab58128f8fb04e61a3575f091a32cbff",
            "edfdd3b6776f4281b5301a1dafe0c8bf",
            "d93f6d339272440793e9909ca86e7d38",
            "4b410df936544624a1994a3820bcec20",
            "a8769f7fdc96488aaad2c10b9e4e91b6",
            "9bd62501f9734d53b5b1e7d08164988f",
            "7c54d74531824ff4b52f2003f800ba22",
            "c455e4989954433c88a00e007b5af7cb",
            "59932e1ca40942eda0ed71c24fc1e22f"
          ]
        },
        "id": "k_ywVMz2csYq",
        "outputId": "1f2a2478-25f2-4637-bf27-a5aa2defe1e2"
      },
      "source": [
        "\n",
        "#The submission fnction to get accuracy results \n",
        "def submit(results, url):\n",
        "  res = json.dumps(results)\n",
        "  response = requests.post(url, res)\n",
        "  result = json.loads(response.text)\n",
        "  print(\"accuracy is {}\".format(result['results']))\n",
        "\n",
        "#Instantiating dataloaders\n",
        "_, gall_loader, query_loader, numclasses, _, _ =  get_data(training_root, test_root, 32, 32, validation_query_root, validation_gallery_root)\n",
        "\n",
        "# Instantiating the network\n",
        "device = torch.device(\"cuda\" if torch.cuda.is_available() else \"cpu\")\n",
        "net = get_net(1394).to(device) #argument of get_net should be equal to numclasses (number of classes used for training the net)\n",
        "#net.load_state_dict(torch.load(model_save_dir,map_location=device))\n",
        "\n",
        "#Create the final submission product and obtain results \n",
        "group = dict()\n",
        "group['groupname'] = \"Roosters\"\n",
        "group['images'] = get_mappings(net, gall_loader, query_loader)\n",
        "submit(group, 'http://ec2-18-191-24-254.us-east-2.compute.amazonaws.com/competition/')\n",
        "\n"
      ],
      "execution_count": 19,
      "outputs": [
        {
          "output_type": "display_data",
          "data": {
            "application/vnd.jupyter.widget-view+json": {
              "model_id": "122b94a74de44070891254ae3a4d2911",
              "version_minor": 0,
              "version_major": 2
            },
            "text/plain": [
              "HBox(children=(FloatProgress(value=0.0, max=13.0), HTML(value='')))"
            ]
          },
          "metadata": {
            "tags": []
          }
        },
        {
          "output_type": "stream",
          "text": [
            "\n",
            "--> Forward pass on gallery images completed. Shape of output tensor: torch.Size([408, 2048])\n"
          ],
          "name": "stdout"
        },
        {
          "output_type": "display_data",
          "data": {
            "application/vnd.jupyter.widget-view+json": {
              "model_id": "edfdd3b6776f4281b5301a1dafe0c8bf",
              "version_minor": 0,
              "version_major": 2
            },
            "text/plain": [
              "HBox(children=(FloatProgress(value=0.0, max=1.0), HTML(value='')))"
            ]
          },
          "metadata": {
            "tags": []
          }
        },
        {
          "output_type": "stream",
          "text": [
            "\n",
            "--> Forward pass on query images completed. Shape of output tensor: torch.Size([15, 2048])\n",
            "--> Distance matrix computed with size:torch.Size([15, 408])\n",
            "accuracy is {'top1': 0.4, 'top3': 0.4666666666666667, 'top10': 0.6}\n"
          ],
          "name": "stdout"
        }
      ]
    }
  ]
}